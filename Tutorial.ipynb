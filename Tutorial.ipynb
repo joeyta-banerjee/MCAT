{
 "cells": [
  {
   "cell_type": "markdown",
   "metadata": {},
   "source": [
    "### Tutorial: How to Use the Given Code"
   ]
  },
  {
   "cell_type": "markdown",
   "metadata": {},
   "source": [
    "This notebook is a guide to using the code provided in our package. The first thing we would need to do is to download the package onto your computer. After this, you can simply import the package using the command:"
   ]
  },
  {
   "cell_type": "code",
   "execution_count": 9,
   "metadata": {},
   "outputs": [
    {
     "name": "stdout",
     "output_type": "stream",
     "text": [
      "The autoreload extension is already loaded. To reload it, use:\n",
      "  %reload_ext autoreload\n"
     ]
    }
   ],
   "source": [
    "%load_ext autoreload\n",
    "%autoreload 2\n",
    "import os, sys\n",
    "import pandas as pd\n",
    "import MCAT_pkg as mc "
   ]
  },
  {
   "cell_type": "markdown",
   "metadata": {},
   "source": [
    "After we import our package, we will need to load in our data. "
   ]
  },
  {
   "cell_type": "code",
   "execution_count": 16,
   "metadata": {},
   "outputs": [],
   "source": [
    "# Identify the location that the data file is in  \n",
    "data_path = \"data/gardner_mt_catastrophe_only_tubulin.csv\"\n",
    "\n",
    "# Read in the file as df\n",
    "df = pd.read_csv(data_path, comment = \"#\")"
   ]
  },
  {
   "cell_type": "code",
   "execution_count": 17,
   "metadata": {},
   "outputs": [
    {
     "data": {
      "text/plain": [
       "\u001b[0;31mType:\u001b[0m        module\n",
       "\u001b[0;31mString form:\u001b[0m <module 'MCAT_pkg' from '/Users/meiyiyou/Desktop/GItHub/bebi103/MCAT/MCAT_pkg/__init__.py'>\n",
       "\u001b[0;31mFile:\u001b[0m        ~/Desktop/GItHub/bebi103/MCAT/MCAT_pkg/__init__.py\n",
       "\u001b[0;31mDocstring:\u001b[0m   <no docstring>\n"
      ]
     },
     "metadata": {},
     "output_type": "display_data"
    }
   ],
   "source": [
    "MCAT_pkg?"
   ]
  },
  {
   "cell_type": "code",
   "execution_count": null,
   "metadata": {},
   "outputs": [],
   "source": []
  }
 ],
 "metadata": {
  "kernelspec": {
   "display_name": "Python 3",
   "language": "python",
   "name": "python3"
  },
  "language_info": {
   "codemirror_mode": {
    "name": "ipython",
    "version": 3
   },
   "file_extension": ".py",
   "mimetype": "text/x-python",
   "name": "python",
   "nbconvert_exporter": "python",
   "pygments_lexer": "ipython3",
   "version": "3.8.5"
  }
 },
 "nbformat": 4,
 "nbformat_minor": 4
}
