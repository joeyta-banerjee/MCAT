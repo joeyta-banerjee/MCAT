{
 "cells": [
  {
   "cell_type": "markdown",
   "metadata": {},
   "source": [
    "### Tutorial: How to Use the Given Code"
   ]
  },
  {
   "cell_type": "markdown",
   "metadata": {},
   "source": [
    "This notebook is a guide to using the code provided in our package. This example illustrates how we have used our package to analyze our microtubule catastrophe data. \n",
    "\n",
    "The first thing we would need to do is to download the package onto your computer. After this, you can simply import the package and any other packages you will need using import statements as exemplified below:"
   ]
  },
  {
   "cell_type": "code",
   "execution_count": 1,
   "metadata": {},
   "outputs": [],
   "source": [
    "%load_ext autoreload\n",
    "%autoreload 2\n",
    "import os, sys\n",
    "# Using alias for packages can reduce having to write out the entire name every single time you call them\n",
    "import pandas as pd\n",
    "import holoviews as hv\n",
    "import MCAT_pkg as mc "
   ]
  },
  {
   "cell_type": "markdown",
   "metadata": {},
   "source": [
    "You can find out more information about a package or function by adding \"?\" or \"??\" behind its name:"
   ]
  },
  {
   "cell_type": "code",
   "execution_count": 2,
   "metadata": {},
   "outputs": [
    {
     "data": {
      "text/plain": [
       "\u001b[0;31mType:\u001b[0m        module\n",
       "\u001b[0;31mString form:\u001b[0m <module 'MCAT_pkg' (namespace)>\n",
       "\u001b[0;31mDocstring:\u001b[0m   <no docstring>\n"
      ]
     },
     "metadata": {},
     "output_type": "display_data"
    }
   ],
   "source": [
    "mc?"
   ]
  },
  {
   "cell_type": "markdown",
   "metadata": {},
   "source": [
    "After we import our package, we will need to load in our data. "
   ]
  },
  {
   "cell_type": "code",
   "execution_count": 3,
   "metadata": {},
   "outputs": [
    {
     "data": {
      "text/plain": [
       "\u001b[0;31mType:\u001b[0m        module\n",
       "\u001b[0;31mString form:\u001b[0m <module 'MCAT_pkg' (namespace)>\n",
       "\u001b[0;31mDocstring:\u001b[0m   <no docstring>\n"
      ]
     },
     "metadata": {},
     "output_type": "display_data"
    }
   ],
   "source": [
    "mc??"
   ]
  },
  {
   "cell_type": "code",
   "execution_count": 4,
   "metadata": {},
   "outputs": [],
   "source": [
    "# Identify the location that the data file is in  \n",
    "data_path = \"data/gardner_mt_catastrophe_only_tubulin.csv\"\n",
    "\n",
    "# Read in the file as df\n",
    "df = pd.read_csv(data_path, comment = \"#\")"
   ]
  },
  {
   "cell_type": "markdown",
   "metadata": {},
   "source": [
    "Let's take a look at the first 5 rows of the data using the command:"
   ]
  },
  {
   "cell_type": "code",
   "execution_count": 13,
   "metadata": {},
   "outputs": [
    {
     "data": {
      "text/html": [
       "<div>\n",
       "<style scoped>\n",
       "    .dataframe tbody tr th:only-of-type {\n",
       "        vertical-align: middle;\n",
       "    }\n",
       "\n",
       "    .dataframe tbody tr th {\n",
       "        vertical-align: top;\n",
       "    }\n",
       "\n",
       "    .dataframe thead th {\n",
       "        text-align: right;\n",
       "    }\n",
       "</style>\n",
       "<table border=\"1\" class=\"dataframe\">\n",
       "  <thead>\n",
       "    <tr style=\"text-align: right;\">\n",
       "      <th></th>\n",
       "      <th>12 uM</th>\n",
       "      <th>7 uM</th>\n",
       "      <th>9 uM</th>\n",
       "      <th>10 uM</th>\n",
       "      <th>14 uM</th>\n",
       "    </tr>\n",
       "  </thead>\n",
       "  <tbody>\n",
       "    <tr>\n",
       "      <th>0</th>\n",
       "      <td>25.000</td>\n",
       "      <td>35.0</td>\n",
       "      <td>25.0</td>\n",
       "      <td>50.0</td>\n",
       "      <td>60.0</td>\n",
       "    </tr>\n",
       "    <tr>\n",
       "      <th>1</th>\n",
       "      <td>40.000</td>\n",
       "      <td>45.0</td>\n",
       "      <td>40.0</td>\n",
       "      <td>60.0</td>\n",
       "      <td>75.0</td>\n",
       "    </tr>\n",
       "    <tr>\n",
       "      <th>2</th>\n",
       "      <td>40.000</td>\n",
       "      <td>50.0</td>\n",
       "      <td>40.0</td>\n",
       "      <td>60.0</td>\n",
       "      <td>75.0</td>\n",
       "    </tr>\n",
       "    <tr>\n",
       "      <th>3</th>\n",
       "      <td>45.429</td>\n",
       "      <td>50.0</td>\n",
       "      <td>45.0</td>\n",
       "      <td>75.0</td>\n",
       "      <td>85.0</td>\n",
       "    </tr>\n",
       "    <tr>\n",
       "      <th>4</th>\n",
       "      <td>50.000</td>\n",
       "      <td>55.0</td>\n",
       "      <td>50.0</td>\n",
       "      <td>75.0</td>\n",
       "      <td>115.0</td>\n",
       "    </tr>\n",
       "  </tbody>\n",
       "</table>\n",
       "</div>"
      ],
      "text/plain": [
       "    12 uM  7 uM  9 uM  10 uM  14 uM\n",
       "0  25.000  35.0  25.0   50.0   60.0\n",
       "1  40.000  45.0  40.0   60.0   75.0\n",
       "2  40.000  50.0  40.0   60.0   75.0\n",
       "3  45.429  50.0  45.0   75.0   85.0\n",
       "4  50.000  55.0  50.0   75.0  115.0"
      ]
     },
     "execution_count": 13,
     "metadata": {},
     "output_type": "execute_result"
    }
   ],
   "source": [
    "df.head()"
   ]
  },
  {
   "cell_type": "markdown",
   "metadata": {},
   "source": [
    "We would like to parse the dataframe into a tidy format. For more information about tidy data, go to the link [here.](https://bebi103a.github.io/lessons/06/tidy_data.html)"
   ]
  },
  {
   "cell_type": "code",
   "execution_count": 14,
   "metadata": {},
   "outputs": [],
   "source": [
    "# Use pandas.melt() to unpivot the dataframe to get Concentration and Catastrophe time into separate columns\n",
    "df_parsed = pd.melt(df, value_vars=list(df.columns.values), \n",
    "                    var_name = \"Concentration (uM)\", \n",
    "                    value_name = \"Time to catastrophe (s)\")\n",
    "# Remove missing values\n",
    "df_parsed = df_parsed.dropna()"
   ]
  },
  {
   "cell_type": "markdown",
   "metadata": {},
   "source": [
    "Let's take a look at the dataframe."
   ]
  },
  {
   "cell_type": "code",
   "execution_count": 15,
   "metadata": {},
   "outputs": [
    {
     "data": {
      "text/html": [
       "<div>\n",
       "<style scoped>\n",
       "    .dataframe tbody tr th:only-of-type {\n",
       "        vertical-align: middle;\n",
       "    }\n",
       "\n",
       "    .dataframe tbody tr th {\n",
       "        vertical-align: top;\n",
       "    }\n",
       "\n",
       "    .dataframe thead th {\n",
       "        text-align: right;\n",
       "    }\n",
       "</style>\n",
       "<table border=\"1\" class=\"dataframe\">\n",
       "  <thead>\n",
       "    <tr style=\"text-align: right;\">\n",
       "      <th></th>\n",
       "      <th>Concentration (uM)</th>\n",
       "      <th>Time to catastrophe (s)</th>\n",
       "    </tr>\n",
       "  </thead>\n",
       "  <tbody>\n",
       "    <tr>\n",
       "      <th>0</th>\n",
       "      <td>12 uM</td>\n",
       "      <td>25.000</td>\n",
       "    </tr>\n",
       "    <tr>\n",
       "      <th>1</th>\n",
       "      <td>12 uM</td>\n",
       "      <td>40.000</td>\n",
       "    </tr>\n",
       "    <tr>\n",
       "      <th>2</th>\n",
       "      <td>12 uM</td>\n",
       "      <td>40.000</td>\n",
       "    </tr>\n",
       "    <tr>\n",
       "      <th>3</th>\n",
       "      <td>12 uM</td>\n",
       "      <td>45.429</td>\n",
       "    </tr>\n",
       "    <tr>\n",
       "      <th>4</th>\n",
       "      <td>12 uM</td>\n",
       "      <td>50.000</td>\n",
       "    </tr>\n",
       "  </tbody>\n",
       "</table>\n",
       "</div>"
      ],
      "text/plain": [
       "  Concentration (uM)  Time to catastrophe (s)\n",
       "0              12 uM                   25.000\n",
       "1              12 uM                   40.000\n",
       "2              12 uM                   40.000\n",
       "3              12 uM                   45.429\n",
       "4              12 uM                   50.000"
      ]
     },
     "execution_count": 15,
     "metadata": {},
     "output_type": "execute_result"
    }
   ],
   "source": [
    "df_parsed.head()"
   ]
  },
  {
   "cell_type": "markdown",
   "metadata": {},
   "source": [
    "Next, we would like to define a categorical color palette to use for different tubulin concentrations"
   ]
  },
  {
   "cell_type": "code",
   "execution_count": 16,
   "metadata": {},
   "outputs": [
    {
     "ename": "AttributeError",
     "evalue": "module 'MCAT_pkg' has no attribute 'bokeh'",
     "output_type": "error",
     "traceback": [
      "\u001b[0;31m---------------------------------------------------------------------------\u001b[0m",
      "\u001b[0;31mAttributeError\u001b[0m                            Traceback (most recent call last)",
      "\u001b[0;32m<ipython-input-16-045edb5222b7>\u001b[0m in \u001b[0;36m<module>\u001b[0;34m\u001b[0m\n\u001b[0;32m----> 1\u001b[0;31m \u001b[0mcolors\u001b[0m \u001b[0;34m=\u001b[0m \u001b[0mmc\u001b[0m\u001b[0;34m.\u001b[0m\u001b[0mbokeh\u001b[0m\u001b[0;34m.\u001b[0m\u001b[0mpalettes\u001b[0m\u001b[0;34m.\u001b[0m\u001b[0mDark2\u001b[0m\u001b[0;34m[\u001b[0m\u001b[0;36m5\u001b[0m\u001b[0;34m]\u001b[0m\u001b[0;34m\u001b[0m\u001b[0;34m\u001b[0m\u001b[0m\n\u001b[0m",
      "\u001b[0;31mAttributeError\u001b[0m: module 'MCAT_pkg' has no attribute 'bokeh'"
     ]
    }
   ],
   "source": [
    "colors = mc.bokeh.palettes.Dark2[5]"
   ]
  },
  {
   "cell_type": "markdown",
   "metadata": {},
   "source": [
    "We would now perform exploratory analysis on the dataset using an ECDF, since they visualize the cumulative density function (CDF). For more information, visit the link [here.](https://bebi103a.github.io/lessons/06/visualizing_distributions.html)"
   ]
  },
  {
   "cell_type": "code",
   "execution_count": null,
   "metadata": {},
   "outputs": [],
   "source": [
    "p = mc.iqplot.ecdf(df_parsed, q = \"Time to catastrophe (s)\", cats = \"Concentration (uM)\", order=['7 uM', '9 uM', '10 uM', '12 uM', '14 uM'])\n",
    "p.title.text = \"ECDF of Catastrophe times by Concentration\"\n",
    "mc.bokeh.io.show(p)"
   ]
  },
  {
   "cell_type": "markdown",
   "metadata": {},
   "source": [
    "From the ECDF, we can see that the tubulin concentration 14uM has the longest overall time to catastrophe, followed by 12 uM, 10uM, and 7uM/9uM. We can see a general trend that higher tubulin concentrations tend to have longer catastrophe times. "
   ]
  },
  {
   "cell_type": "markdown",
   "metadata": {},
   "source": [
    "We now want to see what the individual tubulin concentrations would look like as stripbox plots. "
   ]
  },
  {
   "cell_type": "code",
   "execution_count": null,
   "metadata": {},
   "outputs": [],
   "source": [
    "p_strip = mc.iqplot.stripbox(df_parsed, q = \"Time to catastrophe (s)\", cats = \"Concentration (uM)\", order=['7 uM', '9 uM', '10 uM', '12 uM', '14 uM'])\n",
    "p_strip.title.text = \"Stripbox Plot of Catastrophe Times, separated by Concentration\"\n",
    "mc.bokeh.io.show(p_strip)"
   ]
  },
  {
   "cell_type": "markdown",
   "metadata": {},
   "source": [
    "Here, we can see a similar trend that higher tubulin concentrations tend to have longer catastrophe times. One thing to note, however, is that catastrophe times of tubulin concentration 12uM has more outliers, which can influence/bias the mean. "
   ]
  },
  {
   "cell_type": "markdown",
   "metadata": {},
   "source": [
    "Now, we would like to compare whether a Gamma distribution or an exponential distribution is a better model for this data. For simplicity, we will first perform the tests on tubulin concentration 12uM and then the rest of the concentrations once we determine which model is better. "
   ]
  },
  {
   "cell_type": "markdown",
   "metadata": {},
   "source": [
    "We need to pull out the data for catastrophe times for a tubulin concentration of 12 uM."
   ]
  },
  {
   "cell_type": "code",
   "execution_count": null,
   "metadata": {},
   "outputs": [],
   "source": [
    "# Generate array of times to catastrophe for 12 uM concentration of tubulin\n",
    "conc_12_times = df_parsed.loc[df_parsed[\"Concentration (uM)\"] == '12 uM', 'Time to catastrophe (s)'].values"
   ]
  },
  {
   "cell_type": "markdown",
   "metadata": {},
   "source": [
    "#### Gamma Distribution Model\n",
    "We will first generate parameter estimates according to the Gamma distribution. You can look at the functions within the MCAT_pgk folder. "
   ]
  },
  {
   "cell_type": "code",
   "execution_count": null,
   "metadata": {},
   "outputs": [],
   "source": [
    "mc.mle_iid_gamma(conc_12_times)"
   ]
  },
  {
   "cell_type": "markdown",
   "metadata": {},
   "source": [
    "Perform maximum likelihood estimates for parameters for i.i.d. gamma measurements, parametrized by alpha, b=1/beta"
   ]
  },
  {
   "cell_type": "code",
   "execution_count": null,
   "metadata": {},
   "outputs": [],
   "source": [
    "mc.MLE_analysis.log_like_iid_gamma_log_params(mc.mle_iid_gamma(conc_12_times), conc_12_times)"
   ]
  },
  {
   "cell_type": "markdown",
   "metadata": {},
   "source": [
    "We will draw bootstrap replicates of our MLE. "
   ]
  },
  {
   "cell_type": "code",
   "execution_count": null,
   "metadata": {},
   "outputs": [],
   "source": [
    "gamma_bs_reps = mc.draw_bs_reps(conc_12_times, mc.mle_iid_gamma, size=100)"
   ]
  },
  {
   "cell_type": "markdown",
   "metadata": {},
   "source": [
    "This will give us the MLE estimate."
   ]
  },
  {
   "cell_type": "code",
   "execution_count": null,
   "metadata": {},
   "outputs": [],
   "source": [
    "gamma_mle = mc.np.mean(gamma_bs_reps, axis = 0)"
   ]
  },
  {
   "cell_type": "markdown",
   "metadata": {},
   "source": [
    "#### Exponential Distribution Model"
   ]
  },
  {
   "cell_type": "markdown",
   "metadata": {},
   "source": [
    "We will move on to generate parameter estimates according to the exponential distribution."
   ]
  },
  {
   "cell_type": "code",
   "execution_count": null,
   "metadata": {},
   "outputs": [],
   "source": [
    "# For example sake, we will only be bootstrapping 100 replicates \n",
    "# instead of 10000 that we used in our analysis\n",
    "exp_bs_reps = mc.draw_bs_reps(conc_12_times, mc.mle_iid_exp, size=100)"
   ]
  },
  {
   "cell_type": "code",
   "execution_count": null,
   "metadata": {},
   "outputs": [],
   "source": [
    "exp_mle = mc.np.mean(exp_bs_reps, axis = 0)"
   ]
  },
  {
   "cell_type": "markdown",
   "metadata": {},
   "source": [
    "We want to get the AIC values for each distribution "
   ]
  },
  {
   "cell_type": "code",
   "execution_count": null,
   "metadata": {},
   "outputs": [],
   "source": [
    "# Exponential distribution\n",
    "mc.AIC(exp_mle, mc.log_like_iid_exp_log_params, conc_12_times)"
   ]
  },
  {
   "cell_type": "code",
   "execution_count": null,
   "metadata": {},
   "outputs": [],
   "source": [
    "# Gamma distribution \n",
    "mc.AIC(gamma_mle, mc.MLE_analysis.log_like_iid_gamma_log_params, conc_12_times)"
   ]
  },
  {
   "cell_type": "markdown",
   "metadata": {},
   "source": [
    "We can now plot the QQ plot for the exponential model. "
   ]
  },
  {
   "cell_type": "code",
   "execution_count": null,
   "metadata": {},
   "outputs": [],
   "source": [
    "p = mc.QQ_plot(conc_12_times, mc.gen_exponential, exp_mle, size = 10000, \n",
    "               axis_label = \"Time to catastrophe (s)\", title = \"Exponential QQ-Plot\")\n",
    "mc.bokeh.io.show(p)"
   ]
  },
  {
   "cell_type": "markdown",
   "metadata": {},
   "source": [
    "The QQ plot for the gamma model."
   ]
  },
  {
   "cell_type": "code",
   "execution_count": null,
   "metadata": {},
   "outputs": [],
   "source": [
    "p2 = mc.QQ_plot(conc_12_times, mc.gen_gamma, gamma_mle, size = 10000, \n",
    "                axis_label = \"Time to catastrophe (s)\", title = \"Gamma QQ-Plot\")\n",
    "mc.bokeh.io.show(p2)"
   ]
  },
  {
   "cell_type": "markdown",
   "metadata": {},
   "source": [
    "We would also like to compare the ECDF of theoretical distribution to experimental for each model. "
   ]
  },
  {
   "cell_type": "code",
   "execution_count": null,
   "metadata": {},
   "outputs": [],
   "source": [
    "# Exponential distribution \n",
    "p3 = mc.predictive_ecdf(conc_12_times, mc.gen_exponential, exp_mle, title = 'Exponential Distribution ECDF')\n",
    "mc.bokeh.io.show(p3)"
   ]
  },
  {
   "cell_type": "code",
   "execution_count": null,
   "metadata": {},
   "outputs": [],
   "source": [
    "# Gamma distribution \n",
    "p4 = mc.predictive_ecdf(conc_12_times, mc.gen_gamma, gamma_mle, title = 'Gamma Distribution ECDF')\n",
    "mc.bokeh.io.show(p4)"
   ]
  },
  {
   "cell_type": "markdown",
   "metadata": {},
   "source": [
    "Since the AIC of the exponential distribution (9327.391952721562) is higher than that of the gamma distribution (9278.358353623804), the exponential model is preferred. From the QQ-plots, we can see that there is more separation of the generative quantiles from the observed quantiles in the gamma distribution model than the exponential distribution model. As a result, based on AIC (Akaike information criterion) and QQ plot, the exponential distribution model is better model. "
   ]
  },
  {
   "cell_type": "markdown",
   "metadata": {},
   "source": [
    "### Parameter Estimates for the Other Tubulin Concentrations  "
   ]
  },
  {
   "cell_type": "markdown",
   "metadata": {},
   "source": [
    "Now that we have a preferred model, we will obtain parameter estimates for the other tubulin concentrations using the exponential model. "
   ]
  },
  {
   "cell_type": "code",
   "execution_count": null,
   "metadata": {},
   "outputs": [],
   "source": [
    "# Get unique concentrations and take out 12uM\n",
    "all_concentrations = df_parsed[\"Concentration (uM)\"].unique()\n",
    "concentrations = mc.np.delete(all_concentrations, 0)\n",
    "all_other_bs_reps = []\n",
    "all_other_conf_int = []\n",
    "all_other_mean = []"
   ]
  },
  {
   "cell_type": "code",
   "execution_count": null,
   "metadata": {},
   "outputs": [],
   "source": [
    "# Generate bootstrap replicates for the other tubulin concentrations using the exponential model\n",
    "# Generate array of times to catastrophe for other concentrations of tubulin\n",
    "for conc in concentrations:\n",
    "    conc_times = df_parsed.loc[df_parsed[\"Concentration (uM)\"] == conc, \n",
    "                                  'Time to catastrophe (s)'].values\n",
    "    bs_reps = mc.draw_bs_reps(conc_times, mc.mle_iid_exp, size=100)\n",
    "    all_other_bs_reps.append(bs_reps)\n",
    "    mean = mc.np.mean(bs_reps, axis = 0)\n",
    "    all_other_mean.append(mean)\n",
    "    conf_int = mc.np.percentile(bs_reps, [2.5, 97.5], axis=0)\n",
    "    all_other_conf_int.append(conf_int)\n",
    "    print('The MLE for number of arrivals for a catastrophe to occur (b_1) and difference in b_1 and b_2 (delta_b) is respectively {} with a 95% confidence interval of \\n{}\\n.'\n",
    "          .format(mean, conf_int))"
   ]
  },
  {
   "cell_type": "markdown",
   "metadata": {},
   "source": [
    "We can now plot the bootstrap replicates of all the tubulin concentrations. "
   ]
  },
  {
   "cell_type": "code",
   "execution_count": null,
   "metadata": {},
   "outputs": [],
   "source": [
    "points = hv.Points([]).opts(width=500, height=300)\n",
    "all_conc = mc.np.append(concentrations, '12 uM')\n",
    "all_other_bs_reps.append(exp_bs_reps)\n",
    "for i in range(len(all_conc)):\n",
    "    # Package replicates in data frame for plotting\n",
    "    df_res = pd.DataFrame(data=all_other_bs_reps[i], columns=[\"b_1*\", \"delta_b*\"])\n",
    "    points *= hv.Points(\n",
    "        data=df_res,\n",
    "        kdims=[\"b_1*\", \"delta_b*\"],\n",
    "        label = 'Concentration {}'.format(all_conc[i]),\n",
    "    ).opts(\n",
    "        size=2.5,\n",
    "        alpha=2.5,\n",
    "        color=colors[i],\n",
    "        width=700, \n",
    "        height=500,\n",
    "        legend_position='right',\n",
    "        legend_offset=(0, 290)\n",
    "    )\n",
    "points\n",
    "\n",
    "points.opts(title='Plot of 𝛽1 and Δ𝛽',xlabel='beta (1/s)', ylabel='Delta_beta (1/s)', width=700, height=500)"
   ]
  },
  {
   "cell_type": "markdown",
   "metadata": {},
   "source": [
    "From the plot of $\\beta_1$ and $\\Delta\\beta$ of the different tubulin concentrations, we can see that higher tubulin concentrations seem to have lower $\\beta_1$ values (1/(time to first catastrophe)). All the mean $\\beta_1$values for the different tubulin concentrations, however, are all on the order of 1e-3. In general, by looking at the values of the parameters, we see that the $\\Delta\\beta$ values are on the order of 0 to 1e-4 or 1e-5, which means that $\\beta_1$ and $\\beta_2$ are often the same or are very similar in value, indicating that catastrophe times one after another are often very similar and may be dependent. "
   ]
  }
 ],
 "metadata": {
  "kernelspec": {
   "display_name": "Python 3",
   "language": "python",
   "name": "python3"
  },
  "language_info": {
   "codemirror_mode": {
    "name": "ipython",
    "version": 3
   },
   "file_extension": ".py",
   "mimetype": "text/x-python",
   "name": "python",
   "nbconvert_exporter": "python",
   "pygments_lexer": "ipython3",
   "version": "3.8.2"
  }
 },
 "nbformat": 4,
 "nbformat_minor": 4
}
